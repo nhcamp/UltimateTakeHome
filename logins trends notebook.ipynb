{
 "cells": [
  {
   "cell_type": "code",
   "execution_count": 148,
   "metadata": {},
   "outputs": [],
   "source": [
    "import matplotlib.pyplot as plt\n",
    "import pandas as pd\n",
    "%matplotlib inline"
   ]
  },
  {
   "cell_type": "code",
   "execution_count": 146,
   "metadata": {},
   "outputs": [
    {
     "data": {
      "text/html": [
       "<div>\n",
       "<style scoped>\n",
       "    .dataframe tbody tr th:only-of-type {\n",
       "        vertical-align: middle;\n",
       "    }\n",
       "\n",
       "    .dataframe tbody tr th {\n",
       "        vertical-align: top;\n",
       "    }\n",
       "\n",
       "    .dataframe thead th {\n",
       "        text-align: right;\n",
       "    }\n",
       "</style>\n",
       "<table border=\"1\" class=\"dataframe\">\n",
       "  <thead>\n",
       "    <tr style=\"text-align: right;\">\n",
       "      <th></th>\n",
       "      <th>count</th>\n",
       "      <th>year</th>\n",
       "      <th>month</th>\n",
       "      <th>day_of_month</th>\n",
       "      <th>hour</th>\n",
       "      <th>hour_intervals</th>\n",
       "      <th>day_of_week</th>\n",
       "      <th>day_of_week_named</th>\n",
       "    </tr>\n",
       "    <tr>\n",
       "      <th>login_time</th>\n",
       "      <th></th>\n",
       "      <th></th>\n",
       "      <th></th>\n",
       "      <th></th>\n",
       "      <th></th>\n",
       "      <th></th>\n",
       "      <th></th>\n",
       "      <th></th>\n",
       "    </tr>\n",
       "  </thead>\n",
       "  <tbody>\n",
       "    <tr>\n",
       "      <th>1970-01-01 20:00:00</th>\n",
       "      <td>2</td>\n",
       "      <td>1970</td>\n",
       "      <td>1</td>\n",
       "      <td>1</td>\n",
       "      <td>20</td>\n",
       "      <td>0</td>\n",
       "      <td>3</td>\n",
       "      <td>Wednesday</td>\n",
       "    </tr>\n",
       "    <tr>\n",
       "      <th>1970-01-01 20:15:00</th>\n",
       "      <td>6</td>\n",
       "      <td>1970</td>\n",
       "      <td>1</td>\n",
       "      <td>1</td>\n",
       "      <td>20</td>\n",
       "      <td>15</td>\n",
       "      <td>3</td>\n",
       "      <td>Wednesday</td>\n",
       "    </tr>\n",
       "    <tr>\n",
       "      <th>1970-01-01 20:30:00</th>\n",
       "      <td>9</td>\n",
       "      <td>1970</td>\n",
       "      <td>1</td>\n",
       "      <td>1</td>\n",
       "      <td>20</td>\n",
       "      <td>30</td>\n",
       "      <td>3</td>\n",
       "      <td>Wednesday</td>\n",
       "    </tr>\n",
       "    <tr>\n",
       "      <th>1970-01-01 20:45:00</th>\n",
       "      <td>7</td>\n",
       "      <td>1970</td>\n",
       "      <td>1</td>\n",
       "      <td>1</td>\n",
       "      <td>20</td>\n",
       "      <td>45</td>\n",
       "      <td>3</td>\n",
       "      <td>Wednesday</td>\n",
       "    </tr>\n",
       "    <tr>\n",
       "      <th>1970-01-01 21:00:00</th>\n",
       "      <td>1</td>\n",
       "      <td>1970</td>\n",
       "      <td>1</td>\n",
       "      <td>1</td>\n",
       "      <td>21</td>\n",
       "      <td>0</td>\n",
       "      <td>3</td>\n",
       "      <td>Wednesday</td>\n",
       "    </tr>\n",
       "  </tbody>\n",
       "</table>\n",
       "</div>"
      ],
      "text/plain": [
       "                     count  year  month  day_of_month  hour  hour_intervals  \\\n",
       "login_time                                                                    \n",
       "1970-01-01 20:00:00      2  1970      1             1    20               0   \n",
       "1970-01-01 20:15:00      6  1970      1             1    20              15   \n",
       "1970-01-01 20:30:00      9  1970      1             1    20              30   \n",
       "1970-01-01 20:45:00      7  1970      1             1    20              45   \n",
       "1970-01-01 21:00:00      1  1970      1             1    21               0   \n",
       "\n",
       "                     day_of_week day_of_week_named  \n",
       "login_time                                          \n",
       "1970-01-01 20:00:00            3         Wednesday  \n",
       "1970-01-01 20:15:00            3         Wednesday  \n",
       "1970-01-01 20:30:00            3         Wednesday  \n",
       "1970-01-01 20:45:00            3         Wednesday  \n",
       "1970-01-01 21:00:00            3         Wednesday  "
      ]
     },
     "execution_count": 146,
     "metadata": {},
     "output_type": "execute_result"
    }
   ],
   "source": [
    "logins = pd.read_json('logins.json')\n",
    "logins['count'] = 1\n",
    "logins.set_index('login_time',inplace=True)\n",
    "logins = logins.resample('15t').sum()\n",
    "logins['year'] = logins.index.year\n",
    "logins['month'] = logins.index.month\n",
    "logins['day_of_month'] = logins.index.day\n",
    "logins['hour'] = logins.index.hour\n",
    "logins['hour_intervals'] = logins.index.minute\n",
    "logins['day_of_week'] = logins.index.dayofweek\n",
    "\n",
    "day_of_week = {0:'Sunday',1:'Monday',2:'Tuesday',3:'Wednesday',4:'Thursday',5:'Friday',6:'Saturday'}\n",
    "logins['day_of_week_named'] = logins['day_of_week'].map(day_of_week)\n",
    "logins.head()"
   ]
  },
  {
   "cell_type": "code",
   "execution_count": 147,
   "metadata": {},
   "outputs": [
    {
     "name": "stdout",
     "output_type": "stream",
     "text": [
      "       count\n",
      "month       \n",
      "1       2896\n",
      "2       2688\n",
      "3       2976\n",
      "4       1228\n",
      "                  count\n",
      "day_of_month           \n",
      "1             10.506579\n",
      "2              7.927083\n",
      "3              9.049479\n",
      "4             10.513021\n",
      "5              8.393229\n",
      "6              8.544271\n",
      "7             10.432292\n",
      "8             10.466146\n",
      "9              7.375000\n",
      "10             8.585938\n",
      "                   count\n",
      "hour_intervals          \n",
      "0               9.260319\n",
      "15              9.389048\n",
      "30              9.792399\n",
      "45              9.621986\n"
     ]
    }
   ],
   "source": [
    "group_month = logins[['count','month']].groupby(by='month').count()\n",
    "print(group_month)\n",
    "group_day = logins[['count','day_of_month']].groupby('day_of_month').mean()\n",
    "print(group_day[:10])\n",
    "group_hour_intervals = logins[['count','hour_intervals']].groupby('hour_intervals').mean()\n",
    "print(group_hour_intervals)"
   ]
  },
  {
   "cell_type": "code",
   "execution_count": 149,
   "metadata": {},
   "outputs": [
    {
     "data": {
      "image/png": "[encoded data removed]",
      "text/plain": [
       "<Figure size 432x288 with 2 Axes>"
      ]
     },
     "metadata": {
      "needs_background": "light"
     },
     "output_type": "display_data"
    }
   ],
   "source": [
    "group_hour = logins[['count','hour']].groupby('hour').mean()\n",
    "\n",
    "plt.subplot(2,1,1)\n",
    "plt.title('Mean Logins/Hr - Bar Representation')\n",
    "plt.bar(x = group_hour.index, height = group_hour['count'])\n",
    "plt.xlabel('Hour of the Day (Military Time)')\n",
    "plt.ylabel('Mean Logins')\n",
    "\n",
    "plt.subplot(2,1,2)\n",
    "plt.title('Mean Logins/Hr - Line Representation')\n",
    "plt.plot(group_hour)\n",
    "plt.xlabel('Hour of the Day (Military Time)')\n",
    "plt.ylabel('Mean Logins')\n",
    "plt.tight_layout()\n",
    "plt.show()"
   ]
  },
  {
   "cell_type": "code",
   "execution_count": 150,
   "metadata": {},
   "outputs": [
    {
     "data": {
      "image/png": "[encoded data removed]",
      "text/plain": [
       "<Figure size 432x288 with 2 Axes>"
      ]
     },
     "metadata": {
      "needs_background": "light"
     },
     "output_type": "display_data"
    }
   ],
   "source": [
    "group_day_of_week = logins[['day_of_week','day_of_week_named','count']].groupby('day_of_week_named').mean()\n",
    "group_day_of_week = group_day_of_week.sort_values('day_of_week')\n",
    "group_day_of_week.drop('day_of_week',axis = 1,inplace=True)\n",
    "\n",
    "plt.subplot(2,1,1)\n",
    "plt.title('Mean Logins/DOW - Bar Representation')\n",
    "plt.bar(x = group_day_of_week.index, height = group_day_of_week['count'])\n",
    "plt.xlabel('Day of Week')\n",
    "plt.ylabel('Mean Logins')\n",
    "\n",
    "plt.subplot(2,1,2)\n",
    "plt.title('Mean Logins/DOW - Line Representation')\n",
    "plt.plot(group_day_of_week)\n",
    "plt.xlabel('Day of Week')\n",
    "plt.ylabel('Mean Logins')\n",
    "plt.tight_layout()\n",
    "plt.show()"
   ]
  },
  {
   "cell_type": "code",
   "execution_count": null,
   "metadata": {},
   "outputs": [],
   "source": []
  }
 ],
 "metadata": {
  "kernelspec": {
   "display_name": "Python 3",
   "language": "python",
   "name": "python3"
  },
  "language_info": {
   "codemirror_mode": {
    "name": "ipython",
    "version": 3
   },
   "file_extension": ".py",
   "mimetype": "text/x-python",
   "name": "python",
   "nbconvert_exporter": "python",
   "pygments_lexer": "ipython3",
   "version": "3.7.3"
  }
 },
 "nbformat": 4,
 "nbformat_minor": 2
}
